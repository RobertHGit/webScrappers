{
 "cells": [
  {
   "cell_type": "code",
   "execution_count": 3,
   "metadata": {},
   "outputs": [
    {
     "name": "stdout",
     "output_type": "stream",
     "text": [
      "10.90\n"
     ]
    }
   ],
   "source": [
    "from selenium import webdriver\n",
    "\n",
    "#set up chrome environment and driver\n",
    "option = webdriver.ChromeOptions()\n",
    "option.add_experimental_option(\"prefs\", {\"safebrowsing.enabled\": True})\n",
    "option.add_argument(\"-incognito\")\n",
    "\n",
    "#locate the chromedriver\n",
    "browser = webdriver.Chrome(executable_path=\"C:\\Program Files (x86)\\Google\\Chrome\\Application\\chromedriver.exe\", chrome_options=option)\n",
    "\n",
    "#start browser\n",
    "browser.get('https://www.ing.com/Home.htm')\n",
    "\n",
    "#get ing stock price from our website\n",
    "stockPrice = browser.find_element_by_class_name('stock-price').text\n",
    "\n",
    "#hope we are up today!\n",
    "print(stockPrice)"
   ]
  }
 ],
 "metadata": {
  "kernelspec": {
   "display_name": "Python 3",
   "language": "python",
   "name": "python3"
  },
  "language_info": {
   "codemirror_mode": {
    "name": "ipython",
    "version": 3
   },
   "file_extension": ".py",
   "mimetype": "text/x-python",
   "name": "python",
   "nbconvert_exporter": "python",
   "pygments_lexer": "ipython3",
   "version": "3.6.5"
  }
 },
 "nbformat": 4,
 "nbformat_minor": 2
}
